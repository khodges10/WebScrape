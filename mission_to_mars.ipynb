# Import BeautifulSoup for parsing and splinter for site navigation
from bs4 import BeautifulSoup
from splinter import Browser
executable_path = {"executable_path": "/Users/David W. Jones/class/chromedriver"}
browser = Browser("chrome", **executable_path, headless=False
